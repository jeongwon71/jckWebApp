{
 "cells": [
  {
   "cell_type": "code",
   "execution_count": 1,
   "id": "07ecf17b",
   "metadata": {},
   "outputs": [],
   "source": [
    "import numpy as np\n",
    "f = open(\"benchmarkinfo.txt\")\n",
    "lines = f.readlines()\n",
    "f.close()\n",
    "\n",
    "names = [line.split()[0] for line in lines]"
   ]
  },
  {
   "cell_type": "code",
   "execution_count": null,
   "id": "3dba5c18",
   "metadata": {},
   "outputs": [],
   "source": [
    "calc_keff = []\n",
    "for i in range(len(names)):\n",
    "    if i % 20 == 0:\n",
    "        print(i)\n",
    "    g = open(\"D:/Research files/SDF files/\"+names[i]+\".sdf\")\n",
    "    glines = g.readlines()\n",
    "    g.close()\n",
    "    calc_keff.append(float(glines[3].split()[0]))\n",
    "    \n",
    "calc_unc = []\n",
    "for i in range(len(names)):\n",
    "    calc_unc.append(calc_keff[i]*float(lines[i].split()[-1])/100)\n",
    "    \n",
    "calc_keff = np.array(calc_keff)\n",
    "calc_unc = np.array(calc_unc)\n",
    "\n",
    "meas_keff = np.array([float(line.split()[2]) for line in lines])\n",
    "meas_unc = np.array([float(line.split()[3])/100 for line in lines])\n",
    "\n",
    "score = np.abs(calc_keff - meas_keff)/np.sqrt(calc_unc**2 + meas_unc**2)"
   ]
  },
  {
   "cell_type": "code",
   "execution_count": 11,
   "id": "ee268972",
   "metadata": {},
   "outputs": [],
   "source": [
    "path = \"C:/Users/staro/OneDrive - The University of Texas at Austin/Scripts Matlab/0.AfterPrelim/2023StudentConf/\"\n",
    "Ck = np.loadtxt(path+'Ck')\n",
    "\n",
    "np.savetxt(\"calc_keff\",calc_keff)\n",
    "np.savetxt(\"calc_cov\",Ck)\n",
    "np.savetxt(\"meas_keff\",meas_keff)\n",
    "np.savetxt(\"meas_cov\",np.diag(meas_unc**2))"
   ]
  },
  {
   "cell_type": "code",
   "execution_count": 12,
   "id": "b1c5ba83",
   "metadata": {},
   "outputs": [],
   "source": [
    "np.savetxt(\"calc_keff.csv\",calc_keff,delimiter=',')\n",
    "np.savetxt(\"calc_cov.csv\",Ck,delimiter=',')\n",
    "np.savetxt(\"meas_keff.csv\",meas_keff,delimiter=',')\n",
    "np.savetxt(\"meas_cov.csv\",np.diag(meas_unc**2),delimiter=',')"
   ]
  },
  {
   "cell_type": "code",
   "execution_count": 58,
   "id": "7885b43d",
   "metadata": {},
   "outputs": [],
   "source": [
    "w = open(\"bnmkinf.txt\", \"w\")\n",
    "for i in range(len(names)):\n",
    "    w.write(f\"{names[i]:<24}Calc: {calc_keff[i]:.5f} +- {calc_unc[i]:.5f}  Meas: {meas_keff[i]:.5f}\\\n",
    " +- {meas_unc[i]:.5f}  Score: {score[i]:.5f}\\n\")\n",
    "w.close()"
   ]
  },
  {
   "cell_type": "markdown",
   "id": "9c8277fe",
   "metadata": {},
   "source": [
    "# Modification"
   ]
  },
  {
   "cell_type": "code",
   "execution_count": 1,
   "id": "fc37a3c0",
   "metadata": {},
   "outputs": [],
   "source": [
    "f = open(\"bnmkinf.txt\")\n",
    "lines = f.readlines()\n",
    "f.close()"
   ]
  },
  {
   "cell_type": "code",
   "execution_count": null,
   "id": "6439f350",
   "metadata": {},
   "outputs": [],
   "source": [
    "w = open(\"bnmkinf2.txt\", \"w\")\n",
    "for i in range(len(lines)):\n",
    "    data = lines[i].split()\n",
    "    w.write(f\"{data[0]:<24}Calc keff: {float(data[2])}\\n\")\n",
    "w.close()"
   ]
  },
  {
   "cell_type": "code",
   "execution_count": 15,
   "id": "da5a5d45",
   "metadata": {},
   "outputs": [],
   "source": [
    "w = open(\"bnmkinf2.txt\", 'w')\n",
    "for i in range(len(lines)):\n",
    "# for i in range(2):\n",
    "    data = lines[i].split()\n",
    "    for j in range(3):\n",
    "        w.write(data[0].split('-')[j][0])\n",
    "    w.write('-')\n",
    "    w.write(data[0].split('-')[3])\n",
    "    w.write('-')\n",
    "    w.write(data[0].split('-')[4])\n",
    "    w.write(\" C: \"+data[2]+\" +- \"+data[4])\n",
    "    w.write(\" E: \"+data[6]+\" +- \"+data[8])\n",
    "    w.write('\\n')\n",
    "w.close()"
   ]
  }
 ],
 "metadata": {
  "kernelspec": {
   "display_name": "Python 3 (ipykernel)",
   "language": "python",
   "name": "python3"
  },
  "language_info": {
   "codemirror_mode": {
    "name": "ipython",
    "version": 3
   },
   "file_extension": ".py",
   "mimetype": "text/x-python",
   "name": "python",
   "nbconvert_exporter": "python",
   "pygments_lexer": "ipython3",
   "version": "3.11.5"
  }
 },
 "nbformat": 4,
 "nbformat_minor": 5
}
